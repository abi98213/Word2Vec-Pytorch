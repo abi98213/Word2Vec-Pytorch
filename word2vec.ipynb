{
 "cells": [
  {
   "cell_type": "code",
   "execution_count": null,
   "metadata": {},
   "outputs": [],
   "source": [
    "import torch.nn as nn\n",
    "import numpy as np\n",
    "import pandas as pd\n",
    "import torch\n",
    "from torch.autograd import Variable\n",
    "from torchimports import *"
   ]
  },
  {
   "cell_type": "code",
   "execution_count": null,
   "metadata": {},
   "outputs": [],
   "source": [
    "corpus = ['king is a strong man', \n",
    "          'queen is a wise woman', \n",
    "          'boy is a young man',\n",
    "          'girl is a young woman',\n",
    "          'prince is a young king',\n",
    "          'princess is a young queen',\n",
    "          'man is strong', \n",
    "          'woman is pretty',\n",
    "          'prince is a boy will be king',\n",
    "          'princess is a girl will be queen']"
   ]
  },
  {
   "cell_type": "code",
   "execution_count": null,
   "metadata": {
    "scrolled": true
   },
   "outputs": [],
   "source": [
    "## Delete unnecessary words from it\n",
    "vocab=[]\n",
    "new_corpus= []\n",
    "ans = ''\n",
    "for i in range(0, len(corpus)):\n",
    "    ans = ''\n",
    "\n",
    "    for x, j in enumerate(corpus[i].split(' ')):\n",
    "        if j=='is' or j == 'a' or j == 'will' or j == 'be':\n",
    "            snu = 0\n",
    "        else:\n",
    "            ans+=j+' '\n",
    "            vocab.append(j)\n",
    "\n",
    "    vocab.append(j)\n",
    "    new_corpus.append(ans.rstrip())\n",
    "\n",
    "\n",
    "    \n",
    "    \n",
    "words = sorted(list(set(vocab)))\n",
    
       ]
  },
  {
   "cell_type": "code",
   "execution_count": null,
   "metadata": {},
   "outputs": [],
   "source": [
    "word2int = {}\n",
    "\n",
    "for i,word in enumerate(words):\n",
    "    word2int[word] = i\n",
    "\n",
    "sentences = []\n",
    "for sentence in new_corpus:\n",
    "    sentences.append(sentence.split())\n",
    "    \n",
    "WINDOW_SIZE = 2\n",
    "\n",
    "data = []\n",
    "for sentence in sentences:\n",
    "    for idx, word in enumerate(sentence):\n",
    "        for neighbor in sentence[max(idx - WINDOW_SIZE, 0) : min(idx + WINDOW_SIZE, len(sentence)) + 1] : \n",
    "            if neighbor != word:\n",
    "                data.append([word, neighbor])"
   ]
  },
  {
   "cell_type": "code",
   "execution_count": null,
   "metadata": {},
   "outputs": [],
   "source": [
    "df = pd.DataFrame(data, columns=['input','target'])\n",
    "df.head(10)"
   ]
  },
  {
   "cell_type": "code",
   "execution_count": null,
   "metadata": {},
   "outputs": [],
   "source": [
    "print(word2int)"
   ]
  },
  {
   "cell_type": "code",
   "execution_count": null,
   "metadata": {},
   "outputs": [],
   "source": [
    "def word2vec(W1, W2, input):\n",
    "    Z1 = torch.matmul(W1.t(),input)\n",
    "    Z2 = torch.matmul(W2.t(), Z1)\n",
    "        \n",
    "    return F.log_softmax(Z2, dim = 0)\n",
    "    "
   ]
  },
  {
   "cell_type": "code",
   "execution_count": null,
   "metadata": {},
   "outputs": [],
   "source": [
    "def convert_to_onehot(word_id):\n",
    "        zeros = torch.zeros(12)\n",
    "        zeros[word_id] = 1\n",
    "        return zeros\n",
    "X = []\n",
    "Y = []\n",
    "\n",
    "for x, y in zip(df['input'],df['target']):\n",
    "    X.append(convert_to_onehot(word2int[x]))\n",
    "    Y.append(convert_to_onehot(word2int[y]))\n"
   ]
  },
  {
   "cell_type": "code",
   "execution_count": null,
   "metadata": {},
   "outputs": [],
   "source": [
    "W1 = Variable(torch.randn(12, 2).float(), requires_grad = True)\n",
    "W2 = Variable(torch.randn(2, 12).float(), requires_grad = True)\n"
   ]
  },
  {
   "cell_type": "code",
   "execution_count": null,
   "metadata": {},
   "outputs": [],
   "source": [
    "optimizer = torch.optim.SGD((W1, W2),lr = 0.001)\n",
    "loss = nn.BCEWithLogitsLoss()\n",
    "learning_rate = 0.001"
   ]
  },
  {
   "cell_type": "code",
   "execution_count": null,
   "metadata": {},
   "outputs": [],
   "source": [
    "for i in range(100000):\n",
    "    loss_val=0\n",
    "    for j in range(12):\n",
    "        \n",
    "        output = word2vec(W1, W2, X[j])\n",
    "        loss1 = loss(output, Y[j])\n",
    "        loss1.backward()\n",
    "        loss_val += loss1.data[0]\n",
    "        W1.data -= learning_rate * W1.grad.data\n",
    "        W2.data -= learning_rate * W2.grad.data\n",
    "        \n",
    "        W1.grad.data.zero_()\n",
    "        W2.grad.data.zero_()\n",
    "        if i % 10 == 0:    \n",
    "            print(\"Loss at {} epoch is  {} \".format(i,loss_val/12))\n",
    "    "
   ]
  },
  {
   "cell_type": "code",
   "execution_count": null,
   "metadata": {},
   "outputs": [],
   "source": [
    "print(torch.matmul(W1[10],W1[7])) # shows similarity between women and queen"
   ]
  }
 ],
 "metadata": {
  "kernelspec": {
   "display_name": "Python 3",
   "language": "python",
   "name": "python3"
  },
  "language_info": {
   "codemirror_mode": {
    "name": "ipython",
    "version": 3
   },
   "file_extension": ".py",
   "mimetype": "text/x-python",
   "name": "python",
   "nbconvert_exporter": "python",
   "pygments_lexer": "ipython3",
   "version": "3.6.5"
  }
 },
 "nbformat": 4,
 "nbformat_minor": 2
}
